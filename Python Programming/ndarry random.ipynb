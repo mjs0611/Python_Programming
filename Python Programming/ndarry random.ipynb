{
 "cells": [
  {
   "cell_type": "code",
   "execution_count": 2,
   "metadata": {},
   "outputs": [],
   "source": [
    "import numpy as np"
   ]
  },
  {
   "cell_type": "code",
   "execution_count": 9,
   "metadata": {},
   "outputs": [
    {
     "data": {
      "text/plain": [
       "array([[[0.34345347, 0.07168796, 0.64819712],\n",
       "        [0.01424931, 0.25107538, 0.70725717],\n",
       "        [0.43445359, 0.89343314, 0.44250712],\n",
       "        [0.7350972 , 0.5122568 , 0.61343129],\n",
       "        [0.91348034, 0.17168497, 0.71694755]],\n",
       "\n",
       "       [[0.68255059, 0.90282088, 0.28960085],\n",
       "        [0.93100332, 0.56079928, 0.89241963],\n",
       "        [0.171791  , 0.00160657, 0.83756849],\n",
       "        [0.76794082, 0.20929853, 0.64249368],\n",
       "        [0.87560202, 0.23683397, 0.99340636]],\n",
       "\n",
       "       [[0.3320446 , 0.85535212, 0.21835294],\n",
       "        [0.88940921, 0.72017021, 0.95162412],\n",
       "        [0.21161421, 0.86904265, 0.73381729],\n",
       "        [0.01294107, 0.771952  , 0.67550149],\n",
       "        [0.3297379 , 0.84193308, 0.95673233]],\n",
       "\n",
       "       [[0.76380918, 0.31281218, 0.3073837 ],\n",
       "        [0.84955279, 0.60657882, 0.01576073],\n",
       "        [0.14207876, 0.928682  , 0.48638637],\n",
       "        [0.30508957, 0.41555253, 0.34847731],\n",
       "        [0.14491496, 0.42106305, 0.66272857]]])"
      ]
     },
     "execution_count": 9,
     "metadata": {},
     "output_type": "execute_result"
    }
   ],
   "source": [
    "np.random.rand(4, 5, 3)"
   ]
  },
  {
   "cell_type": "code",
   "execution_count": 11,
   "metadata": {},
   "outputs": [
    {
     "data": {
      "text/plain": [
       "array([[[ 0.07083654, -0.41619853],\n",
       "        [ 1.29934388, -0.33596176],\n",
       "        [-0.34695404,  1.58114807],\n",
       "        [ 1.13621902, -0.42488773]],\n",
       "\n",
       "       [[-2.10249211,  0.4667535 ],\n",
       "        [-0.87883168,  0.409903  ],\n",
       "        [ 0.44195043,  1.2148602 ],\n",
       "        [-1.14569344, -0.30025843]],\n",
       "\n",
       "       [[-2.10215847, -2.03492119],\n",
       "        [ 0.32340604,  1.37217801],\n",
       "        [-1.93153801, -1.76278367],\n",
       "        [-0.61156072,  1.58423093]]])"
      ]
     },
     "execution_count": 11,
     "metadata": {},
     "output_type": "execute_result"
    }
   ],
   "source": [
    "np.random.randn(3, 4, 2)"
   ]
  },
  {
   "cell_type": "code",
   "execution_count": 13,
   "metadata": {},
   "outputs": [
    {
     "data": {
      "text/plain": [
       "array([[[22, 85],\n",
       "        [11,  6],\n",
       "        [87, 40],\n",
       "        [81, 99],\n",
       "        [79,  6]],\n",
       "\n",
       "       [[72,  4],\n",
       "        [82, 84],\n",
       "        [77, 63],\n",
       "        [ 7,  4],\n",
       "        [32, 96]],\n",
       "\n",
       "       [[29,  1],\n",
       "        [50, 79],\n",
       "        [52, 20],\n",
       "        [23, 89],\n",
       "        [83, 97]]])"
      ]
     },
     "execution_count": 13,
     "metadata": {},
     "output_type": "execute_result"
    }
   ],
   "source": [
    "np.random.randint(1, 100, size=(3, 5, 2))"
   ]
  },
  {
   "cell_type": "code",
   "execution_count": 17,
   "metadata": {},
   "outputs": [],
   "source": [
    "np.random.seed(100)"
   ]
  },
  {
   "cell_type": "code",
   "execution_count": 20,
   "metadata": {},
   "outputs": [
    {
     "data": {
      "text/plain": [
       "array([[-1.74976547,  0.3426804 ,  1.1530358 , -0.25243604],\n",
       "       [ 0.98132079,  0.51421884,  0.22117967, -1.07004333],\n",
       "       [-0.18949583,  0.25500144, -0.45802699,  0.43516349]])"
      ]
     },
     "execution_count": 20,
     "metadata": {},
     "output_type": "execute_result"
    }
   ],
   "source": [
    "np.random.seed(100)\n",
    "np.random.randn(3, 4)"
   ]
  },
  {
   "cell_type": "code",
   "execution_count": 21,
   "metadata": {},
   "outputs": [
    {
     "data": {
      "text/plain": [
       "array([[83,  4, 91, 59],\n",
       "       [67,  7, 49, 47],\n",
       "       [65, 61, 14, 55]])"
      ]
     },
     "execution_count": 21,
     "metadata": {},
     "output_type": "execute_result"
    }
   ],
   "source": [
    "np.random.choice(100, size = (3, 4))"
   ]
  },
  {
   "cell_type": "code",
   "execution_count": 26,
   "metadata": {},
   "outputs": [
    {
     "data": {
      "text/plain": [
       "array([[2. , 1.5],\n",
       "       [1. , 3. ]])"
      ]
     },
     "execution_count": 26,
     "metadata": {},
     "output_type": "execute_result"
    }
   ],
   "source": [
    "x = np.array([1, 2, 3, 1.5, 2.6, 4.9])\n",
    "np.random.choice(x, size=(2, 2), replace=False)"
   ]
  },
  {
   "cell_type": "code",
   "execution_count": 27,
   "metadata": {},
   "outputs": [
    {
     "data": {
      "text/plain": [
       "array([[2.10191676, 1.76214681, 2.05853156, 2.9137538 , 1.35164262],\n",
       "       [1.23660567, 2.72589134, 1.14973376, 2.65018972, 2.67226363],\n",
       "       [1.15078982, 1.02280158, 1.09684114, 1.71424542, 2.33138675],\n",
       "       [1.02277922, 1.21583553, 2.8020262 , 2.58975752, 2.62292196]])"
      ]
     },
     "execution_count": 27,
     "metadata": {},
     "output_type": "execute_result"
    }
   ],
   "source": [
    "np.random.uniform(1.0, 3.0, size=(4, 5))"
   ]
  },
  {
   "cell_type": "code",
   "execution_count": 28,
   "metadata": {},
   "outputs": [
    {
     "data": {
      "text/plain": [
       "array([[ 1.31557418,  1.4789783 ,  0.22142626, -1.11789416],\n",
       "       [-0.18499993, -0.43118745,  0.14253625, -1.49639345],\n",
       "       [ 0.30687456, -0.04634723,  0.41714428, -0.60377052]])"
      ]
     },
     "execution_count": 28,
     "metadata": {},
     "output_type": "execute_result"
    }
   ],
   "source": [
    "np.random.normal(size=(3, 4))"
   ]
  },
  {
   "cell_type": "code",
   "execution_count": null,
   "metadata": {},
   "outputs": [],
   "source": []
  }
 ],
 "metadata": {
  "kernelspec": {
   "display_name": "Python 3",
   "language": "python",
   "name": "python3"
  },
  "language_info": {
   "codemirror_mode": {
    "name": "ipython",
    "version": 3
   },
   "file_extension": ".py",
   "mimetype": "text/x-python",
   "name": "python",
   "nbconvert_exporter": "python",
   "pygments_lexer": "ipython3",
   "version": "3.7.6"
  }
 },
 "nbformat": 4,
 "nbformat_minor": 4
}
